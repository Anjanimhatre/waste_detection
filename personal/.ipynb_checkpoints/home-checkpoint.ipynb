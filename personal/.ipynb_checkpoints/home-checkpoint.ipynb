{
 "cells": [
  {
   "cell_type": "code",
   "execution_count": 1,
   "id": "70e93436-ae23-407d-b790-d47b8d521f05",
   "metadata": {},
   "outputs": [],
   "source": [
    "import os\n",
    "import numpy  as np \n",
    "import warnings\n",
    "warnings.filterwarnings(\"ignore\")\n",
    "\n",
    "import random\n",
    "from random import seed\n",
    "from PIL import Image\n",
    "import matplotlib.pyplot as plt\n",
    "\n",
    "import tensorflow as tf\n",
    "from tensorflow.keras import Sequential \n",
    "from tensorflow.keras.layers import Dense, Flatten, Dropout, InputLayer\n",
    "from tensorflow.keras.optimizers import Adam\n",
    "from tensorflow.keras.applications.vgg16 import VGG16\n",
    "from tensorflow.keras.applications.vgg16 import preprocess_input\n",
    "from tensorflow.keras.callbacks import EarlyStopping, ModelCheckpoint\n",
    "from tensorflow.keras.preprocessing.image import ImageDataGenerator"
   ]
  },
  {
   "cell_type": "code",
   "execution_count": null,
   "id": "a8a60e9b-9bb5-430f-b0c1-84f8c7ea54e5",
   "metadata": {},
   "outputs": [],
   "source": [
    "def plot_random_images(dataset_dir, category, num_images=4):\n",
    "    # Path to the specified category directory\n",
    "    category_dir = os.path.join(dataset_dir, 'TRAIN', category)\n",
    "    \n",
    "    # Get the list of image file names in the category directory\n",
    "    image_files = os.listdir(category_dir)\n",
    "    \n",
    "    # Select num_images random images from the category directory\n",
    "    random_images = random.sample(image_files, num_images)\n",
    "    \n",
    "    # Plot the random images\n",
    "    plt.figure(figsize=(15, 5))\n",
    "    for i, image_name in enumerate(random_images):\n",
    "        # Load the image\n",
    "        image_path = os.path.join(category_dir, image_name)\n",
    "        image = Image.open(image_path)\n",
    "        \n",
    "        # Plot the image\n",
    "        plt.subplot(1, num_images, i+1)\n",
    "        plt.imshow(image)\n",
    "        plt.title((\"Organic\" if category == 'O' else \"Recycle\") + \" Waste\")  # Set the title for each image\n",
    "        plt.axis('off')\n",
    "    \n",
    "    plt.show()\n",
    "\n",
    "# Example usage: plot 4 random images from 'O' (Organic) and 'R' (Recyclable) categories\n",
    "dataset_dir = '/kaggle/input/waste-classification-data/DATASET'\n",
    "plot_random_images(dataset_dir, 'O', num_images=4)\n",
    "plot_random_images(dataset_dir, 'R', num_images=4)\n"
   ]
  },
  {
   "cell_type": "code",
   "execution_count": null,
   "id": "c9a24806-d76a-4db8-9a02-2c486b262d1f",
   "metadata": {},
   "outputs": [],
   "source": [
    "train_directory = '/kaggle/input/waste-classification-data/DATASET/TRAIN'\n",
    "test_directory = '/kaggle/input/waste-classification-data/DATASET/TEST'"
   ]
  },
  {
   "cell_type": "code",
   "execution_count": null,
   "id": "ffb9c70a-0f77-417f-8021-65b37602109b",
   "metadata": {},
   "outputs": [],
   "source": [
    "train_data_generator = ImageDataGenerator(\n",
    "    #rescale=1./255,\n",
    "    preprocessing_function=preprocess_input,\n",
    "    validation_split=0.2,\n",
    "    width_shift_range=0.2, \n",
    "    height_shift_range=0.2, \n",
    "    horizontal_flip=True\n",
    ")\n",
    "\n",
    "validation_data_generator = ImageDataGenerator(\n",
    "    #rescale=1./255,\n",
    "    preprocessing_function=preprocess_input,\n",
    "    validation_split=0.2,\n",
    ")\n",
    "\n",
    "test_data_generator = ImageDataGenerator(\n",
    "    #rescale = 1./255,\n",
    "    preprocessing_function=preprocess_input\n",
    ")"
   ]
  },
  {
   "cell_type": "code",
   "execution_count": null,
   "id": "e0657b9d-1fb8-4492-b32f-711731fe2fda",
   "metadata": {},
   "outputs": [],
   "source": [
    "train_generator = train_data_generator.flow_from_directory(\n",
    "    train_directory,\n",
    "    target_size=(150,150),\n",
    "    class_mode='binary',\n",
    "    batch_size=128,\n",
    "    shuffle = True,\n",
    "    subset=\"training\",\n",
    "    seed = 43\n",
    ")"
   ]
  },
  {
   "cell_type": "code",
   "execution_count": null,
   "id": "5cb55558-169f-4682-af0a-d3988c63bd1f",
   "metadata": {},
   "outputs": [],
   "source": [
    "validation_generator = validation_data_generator.flow_from_directory(\n",
    "    train_directory,\n",
    "    target_size=(150,150),\n",
    "    class_mode='binary',\n",
    "    batch_size=128,\n",
    "    shuffle = True,\n",
    "    subset=\"validation\",\n",
    "    seed = 43\n",
    ")"
   ]
  },
  {
   "cell_type": "code",
   "execution_count": null,
   "id": "c84e9707-5cbd-4f6d-b4d9-548a642f28f9",
   "metadata": {},
   "outputs": [],
   "source": [
    "test_generator = test_data_generator.flow_from_directory(\n",
    "    test_directory,\n",
    "    target_size=(150,150),\n",
    "    class_mode='binary',\n",
    "    batch_size=128,\n",
    "    shuffle = True\n",
    ")"
   ]
  },
  {
   "cell_type": "code",
   "execution_count": null,
   "id": "392effc2-315e-472a-949a-ddff60a9eb6d",
   "metadata": {},
   "outputs": [],
   "source": [
    "# Define the core VGG16 model with pre-trained weights\n",
    "core = VGG16(include_top=False, weights='imagenet', input_shape=(150, 150, 3))\n",
    "core.trainable = False\n",
    "\n",
    "# Define the sequential model\n",
    "model = Sequential([\n",
    "    core,\n",
    "    Flatten(),\n",
    "    Dense(100, activation=\"relu\"),\n",
    "    Dropout(0.2),\n",
    "    Dense(50, activation=\"relu\"),\n",
    "    Dropout(0.2),\n",
    "    Dense(1, activation=\"sigmoid\")\n",
    "])\n",
    "\n",
    "# Compile the model\n",
    "model.compile(optimizer=Adam(), loss='binary_crossentropy', metrics=[\"accuracy\"])\n",
    "\n",
    "# Define early stopping callback\n",
    "earlystopping = EarlyStopping(monitor='val_accuracy', mode='max', patience=5, restore_best_weights=True)\n",
    "\n",
    "# Define model checkpoint callback based on validation accuracy\n",
    "checkpoint_path = \"model_checkpoint.keras\"\n",
    "checkpoint = ModelCheckpoint(checkpoint_path, monitor='val_accuracy', mode='max', save_best_only=True, verbose=1)\n",
    "\n",
    "# Train the model\n",
    "history = model.fit(train_generator, epochs=15, validation_data=validation_generator, callbacks=[earlystopping, checkpoint])"
   ]
  },
  {
   "cell_type": "code",
   "execution_count": null,
   "id": "9077e482-c443-4b98-a35a-853bb25d66a0",
   "metadata": {},
   "outputs": [],
   "source": [
    "import matplotlib.pyplot as plt\n",
    "\n",
    "def plot_training_history(history, metrics=['loss', 'accuracy'], figsize=(12, 5)):\n",
    "    \"\"\"\n",
    "    Plot training and validation metrics over epochs.\n",
    "\n",
    "    Parameters:\n",
    "        history (History): History object returned by model.fit().\n",
    "        metrics (list): List of metrics to plot (e.g., ['loss', 'accuracy']).\n",
    "        figsize (tuple): Figure size (width, height) in inches.\n",
    "\n",
    "    Returns:\n",
    "        None\n",
    "    \"\"\"\n",
    "    # Create subplots based on the number of metrics\n",
    "    num_metrics = len(metrics)\n",
    "    plt.figure(figsize=figsize)\n",
    "    \n",
    "    for i, metric in enumerate(metrics, 1):\n",
    "        plt.subplot(1, num_metrics, i)\n",
    "        plt.plot(history.epoch, history.history[metric], label='Training ' + metric)\n",
    "        plt.plot(history.epoch, history.history['val_' + metric], label='Validation ' + metric)\n",
    "        plt.title('Training and Validation ' + metric.capitalize())\n",
    "        plt.xlabel('Epochs')\n",
    "        plt.ylabel(metric.capitalize())\n",
    "        plt.legend()\n",
    "\n",
    "    plt.tight_layout()\n",
    "    plt.show()\n",
    "\n",
    "# Example usage:\n",
    "# Assuming 'history' contains the training history object\n",
    "plot_training_history(history, metrics=['loss', 'accuracy'], figsize=(16, 6))\n"
   ]
  },
  {
   "cell_type": "code",
   "execution_count": null,
   "id": "ce24c320-d8d3-4bfc-9d4d-a61fcb07341d",
   "metadata": {},
   "outputs": [],
   "source": [
    "evaluation = model.evaluate(test_generator)\n",
    "print(f'test Loss: {evaluation[0]:.4f}')\n",
    "print(f'test Accuracy: {evaluation[1] * 100:.2f}%')"
   ]
  },
  {
   "cell_type": "code",
   "execution_count": null,
   "id": "2819266a-71cf-4e6a-a7e7-f0a8423a970b",
   "metadata": {},
   "outputs": [],
   "source": []
  },
  {
   "cell_type": "code",
   "execution_count": null,
   "id": "ddc59d16-b6f9-460c-863b-5adb2d6347cc",
   "metadata": {},
   "outputs": [],
   "source": []
  },
  {
   "cell_type": "code",
   "execution_count": null,
   "id": "3852f79b-eba9-4b0d-bd0a-cfe6d1d59edc",
   "metadata": {},
   "outputs": [],
   "source": []
  }
 ],
 "metadata": {
  "kernelspec": {
   "display_name": "Python 3 (ipykernel)",
   "language": "python",
   "name": "python3"
  },
  "language_info": {
   "codemirror_mode": {
    "name": "ipython",
    "version": 3
   },
   "file_extension": ".py",
   "mimetype": "text/x-python",
   "name": "python",
   "nbconvert_exporter": "python",
   "pygments_lexer": "ipython3",
   "version": "3.10.10"
  }
 },
 "nbformat": 4,
 "nbformat_minor": 5
}
